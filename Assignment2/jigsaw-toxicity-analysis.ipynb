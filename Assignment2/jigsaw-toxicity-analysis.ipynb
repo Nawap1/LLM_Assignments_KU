{
 "cells": [
  {
   "cell_type": "markdown",
   "id": "68ee7a07",
   "metadata": {
    "papermill": {
     "duration": 0.015747,
     "end_time": "2021-11-20T15:58:37.151959",
     "exception": false,
     "start_time": "2021-11-20T15:58:37.136212",
     "status": "completed"
    },
    "tags": []
   },
   "source": [
    "# Toxic Comment Classification using Transformer Architecture\n",
    "\n",
    "## Overview\n",
    "This notebook implements a multi-label classification system using a simple Keras transformer to identify toxic comments. The model is trained on data from the Jigsaw Toxic Comment Classification Challenge.\n",
    "\n",
    "**Key Features:**\n",
    "- **Target Variable**: Sum of initial toxic labels (ranges from 0 to 6)\n",
    "- **Scoring Method**: Dot product of labels and their probabilities\n",
    "- **Architecture**: Custom transformer implementation from Keras examples\n",
    "\n",
    "**Dataset Source**: [Jigsaw Toxic Comment Classification Challenge](https://www.kaggle.com/julian3833/jigsaw-toxic-comment-classification-challenge)"
   ]
  },
  {
   "cell_type": "markdown",
   "id": "1ccfa470",
   "metadata": {},
   "source": [
    "## Import Dependencies and Load Data\n",
    "\n",
    "We'll start by importing all necessary libraries for data processing, machine learning, and natural language processing."
   ]
  },
  {
   "cell_type": "code",
   "execution_count": null,
   "id": "0856cf6e",
   "metadata": {
    "_cell_guid": "b1076dfc-b9ad-4769-8c92-a6c4dae69d19",
    "_uuid": "8f2839f25d086af736a60e9eeb907d3b93b6e0e5",
    "execution": {
     "iopub.execute_input": "2021-11-20T15:58:37.190511Z",
     "iopub.status.busy": "2021-11-20T15:58:37.189781Z",
     "iopub.status.idle": "2021-11-20T15:58:45.302810Z",
     "shell.execute_reply": "2021-11-20T15:58:45.302281Z",
     "shell.execute_reply.started": "2021-11-20T15:36:11.213578Z"
    },
    "papermill": {
     "duration": 8.136546,
     "end_time": "2021-11-20T15:58:45.302951",
     "exception": false,
     "start_time": "2021-11-20T15:58:37.166405",
     "status": "completed"
    },
    "tags": []
   },
   "outputs": [
    {
     "data": {
      "text/html": [
       "<div>\n",
       "<style scoped>\n",
       "    .dataframe tbody tr th:only-of-type {\n",
       "        vertical-align: middle;\n",
       "    }\n",
       "\n",
       "    .dataframe tbody tr th {\n",
       "        vertical-align: top;\n",
       "    }\n",
       "\n",
       "    .dataframe thead th {\n",
       "        text-align: right;\n",
       "    }\n",
       "</style>\n",
       "<table border=\"1\" class=\"dataframe\">\n",
       "  <thead>\n",
       "    <tr style=\"text-align: right;\">\n",
       "      <th></th>\n",
       "      <th>id</th>\n",
       "      <th>comment_text</th>\n",
       "      <th>toxic</th>\n",
       "      <th>severe_toxic</th>\n",
       "      <th>obscene</th>\n",
       "      <th>threat</th>\n",
       "      <th>insult</th>\n",
       "      <th>identity_hate</th>\n",
       "    </tr>\n",
       "  </thead>\n",
       "  <tbody>\n",
       "    <tr>\n",
       "      <th>0</th>\n",
       "      <td>0000997932d777bf</td>\n",
       "      <td>Explanation\\nWhy the edits made under my usern...</td>\n",
       "      <td>0</td>\n",
       "      <td>0</td>\n",
       "      <td>0</td>\n",
       "      <td>0</td>\n",
       "      <td>0</td>\n",
       "      <td>0</td>\n",
       "    </tr>\n",
       "    <tr>\n",
       "      <th>1</th>\n",
       "      <td>000103f0d9cfb60f</td>\n",
       "      <td>D'aww! He matches this background colour I'm s...</td>\n",
       "      <td>0</td>\n",
       "      <td>0</td>\n",
       "      <td>0</td>\n",
       "      <td>0</td>\n",
       "      <td>0</td>\n",
       "      <td>0</td>\n",
       "    </tr>\n",
       "    <tr>\n",
       "      <th>2</th>\n",
       "      <td>000113f07ec002fd</td>\n",
       "      <td>Hey man, I'm really not trying to edit war. It...</td>\n",
       "      <td>0</td>\n",
       "      <td>0</td>\n",
       "      <td>0</td>\n",
       "      <td>0</td>\n",
       "      <td>0</td>\n",
       "      <td>0</td>\n",
       "    </tr>\n",
       "  </tbody>\n",
       "</table>\n",
       "</div>"
      ],
      "text/plain": [
       "                 id                                       comment_text  toxic  \\\n",
       "0  0000997932d777bf  Explanation\\nWhy the edits made under my usern...      0   \n",
       "1  000103f0d9cfb60f  D'aww! He matches this background colour I'm s...      0   \n",
       "2  000113f07ec002fd  Hey man, I'm really not trying to edit war. It...      0   \n",
       "\n",
       "   severe_toxic  obscene  threat  insult  identity_hate  \n",
       "0             0        0       0       0              0  \n",
       "1             0        0       0       0              0  \n",
       "2             0        0       0       0              0  "
      ]
     },
     "execution_count": 1,
     "metadata": {},
     "output_type": "execute_result"
    }
   ],
   "source": [
    "# Import essential libraries for data manipulation and machine learning\n",
    "import numpy as np\n",
    "import pandas as pd\n",
    "\n",
    "# TensorFlow and Keras for deep learning\n",
    "import tensorflow as tf\n",
    "from tensorflow import keras\n",
    "from tensorflow.keras import layers\n",
    "from tensorflow.keras.preprocessing.sequence import pad_sequences\n",
    "from tensorflow.keras.preprocessing.text import Tokenizer\n",
    "\n",
    "# Text processing and cleaning utilities\n",
    "import re\n",
    "import unidecode\n",
    "from bs4 import BeautifulSoup\n",
    "from nltk.corpus import stopwords\n",
    "from nltk.tokenize import word_tokenize\n",
    "from scipy.stats import rankdata\n",
    "from sklearn.model_selection import train_test_split\n",
    "\n",
    "# Set random seed for reproducibility\n",
    "seed = 42\n",
    "\n",
    "# Load training and test datasets\n",
    "train_set = pd.read_csv('../input/jigsaw-toxic-comment-classification-challenge/train.csv')\n",
    "test = pd.read_csv('../input/jigsaw-toxic-severity-rating/comments_to_score.csv')\n",
    "\n",
    "# Display first few rows of training data\n",
    "train_set.head(3)"
   ]
  },
  {
   "cell_type": "markdown",
   "id": "284b53fb",
   "metadata": {},
   "source": [
    "## Text Preprocessing and Cleaning\n",
    "\n",
    "Before training our model, we need to clean and preprocess the text data. This involves removing HTML tags, URLs, special characters, and stopwords to improve model performance."
   ]
  },
  {
   "cell_type": "code",
   "execution_count": null,
   "id": "31ba884b",
   "metadata": {
    "execution": {
     "iopub.execute_input": "2021-11-20T15:58:45.337064Z",
     "iopub.status.busy": "2021-11-20T15:58:45.336545Z",
     "iopub.status.idle": "2021-11-20T15:58:45.340013Z",
     "shell.execute_reply": "2021-11-20T15:58:45.339592Z",
     "shell.execute_reply.started": "2021-11-20T15:36:19.305427Z"
    },
    "papermill": {
     "duration": 0.023664,
     "end_time": "2021-11-20T15:58:45.340114",
     "exception": false,
     "start_time": "2021-11-20T15:58:45.316450",
     "status": "completed"
    },
    "tags": []
   },
   "outputs": [],
   "source": [
    "def clean_data(data):\n",
    "    \"\"\"\n",
    "    Comprehensive text cleaning function that performs the following operations:\n",
    "    1. Remove newlines, tabs, and backslashes\n",
    "    2. Parse and remove HTML tags using BeautifulSoup\n",
    "    3. Remove URLs and website references\n",
    "    4. Convert to lowercase and remove accents\n",
    "    5. Remove special characters (keep only alphanumeric and basic punctuation)\n",
    "    6. Remove stopwords using NLTK\n",
    "    \n",
    "    Args:\n",
    "        data: List of text strings to clean\n",
    "        \n",
    "    Returns:\n",
    "        List of cleaned text strings\n",
    "    \"\"\"\n",
    "    final = []\n",
    "    for sent in data:\n",
    "        # Replace common escape characters and normalize spacing\n",
    "        sent = sent.replace('\\\\n', ' ').replace('\\n', ' ').replace('\\t',' ').replace('\\\\', ' ').replace('. com', '.com')\n",
    "        \n",
    "        # Parse HTML content and extract plain text\n",
    "        soup = BeautifulSoup(sent, \"html.parser\")\n",
    "        sent = soup.get_text(separator=\" \")\n",
    "        \n",
    "        # Remove HTTP URLs and website references\n",
    "        remove_https = re.sub(r'http\\S+', '', sent)\n",
    "        sent = re.sub(r\"\\ [A-Za-z]*\\.com\", \" \", remove_https)\n",
    "        \n",
    "        # Convert unicode characters to ASCII and lowercase\n",
    "        sent = unidecode.unidecode(sent)\n",
    "        sent = sent.lower()\n",
    "        \n",
    "        # Keep only alphanumeric characters and basic punctuation\n",
    "        sent = re.sub(r\"[^a-zA-Z0-9:$-,()%.?!]+\", ' ', sent) \n",
    "        sent = re.sub(r\"[:$-,()%.?!]+\", ' ',sent)\n",
    "        \n",
    "        # Remove English stopwords\n",
    "        stoplist = stopwords.words(\"english\")\n",
    "        sent = [word for word in word_tokenize(sent) if word not in stoplist]\n",
    "        sent = \" \".join(sent)\n",
    "        final.append(sent)\n",
    "    \n",
    "    return final"
   ]
  },
  {
   "cell_type": "markdown",
   "id": "d4fdf435",
   "metadata": {
    "papermill": {
     "duration": 0.012707,
     "end_time": "2021-11-20T15:58:45.365619",
     "exception": false,
     "start_time": "2021-11-20T15:58:45.352912",
     "status": "completed"
    },
    "tags": []
   },
   "source": [
    "## Dataset Analysis and Sampling\n",
    "\n",
    "The original dataset is heavily imbalanced with most comments being non-toxic. We'll analyze the distribution and create a balanced subset for training."
   ]
  },
  {
   "cell_type": "code",
   "execution_count": null,
   "id": "d393a3a7",
   "metadata": {
    "execution": {
     "iopub.execute_input": "2021-11-20T15:58:45.400791Z",
     "iopub.status.busy": "2021-11-20T15:58:45.400020Z",
     "iopub.status.idle": "2021-11-20T15:58:45.410453Z",
     "shell.execute_reply": "2021-11-20T15:58:45.410017Z",
     "shell.execute_reply.started": "2021-11-20T15:36:19.315569Z"
    },
    "papermill": {
     "duration": 0.031752,
     "end_time": "2021-11-20T15:58:45.410562",
     "exception": false,
     "start_time": "2021-11-20T15:58:45.378810",
     "status": "completed"
    },
    "tags": []
   },
   "outputs": [
    {
     "data": {
      "text/plain": [
       "0    143346\n",
       "1      6360\n",
       "3      4209\n",
       "2      3480\n",
       "4      1760\n",
       "5       385\n",
       "6        31\n",
       "Name: toxicity, dtype: int64"
      ]
     },
     "execution_count": 3,
     "metadata": {},
     "output_type": "execute_result"
    }
   ],
   "source": [
    "# Create toxicity score by summing all toxic label columns\n",
    "train_set['toxicity'] = train_set.drop(['id', 'comment_text'], axis=1).sum(axis=1)\n",
    "\n",
    "# Display distribution of toxicity scores\n",
    "train_set.toxicity.value_counts()"
   ]
  },
  {
   "cell_type": "markdown",
   "id": "aea42c24",
   "metadata": {},
   "source": [
    "## Creating Balanced Training Dataset\n",
    "\n",
    "To address class imbalance, we'll sample a limited number of non-toxic comments while keeping all toxic comments for training."
   ]
  },
  {
   "cell_type": "code",
   "execution_count": null,
   "id": "0734041f",
   "metadata": {
    "execution": {
     "iopub.execute_input": "2021-11-20T15:58:45.444469Z",
     "iopub.status.busy": "2021-11-20T15:58:45.443336Z",
     "iopub.status.idle": "2021-11-20T15:58:45.485052Z",
     "shell.execute_reply": "2021-11-20T15:58:45.485561Z",
     "shell.execute_reply.started": "2021-11-20T15:36:19.338507Z"
    },
    "papermill": {
     "duration": 0.061498,
     "end_time": "2021-11-20T15:58:45.485715",
     "exception": false,
     "start_time": "2021-11-20T15:58:45.424217",
     "status": "completed"
    },
    "tags": []
   },
   "outputs": [
    {
     "data": {
      "text/plain": [
       "0    15000\n",
       "1     6360\n",
       "3     4209\n",
       "2     3480\n",
       "4     1760\n",
       "5      385\n",
       "6       31\n",
       "Name: toxicity, dtype: int64"
      ]
     },
     "execution_count": 4,
     "metadata": {},
     "output_type": "execute_result"
    }
   ],
   "source": [
    "# Limit non-toxic comments to prevent class imbalance\n",
    "n = 15000\n",
    "\n",
    "# Sample 'n' non-toxic comments randomly\n",
    "nontoxic_sample = train_set[train_set.toxicity==0].sample(n, random_state = seed)\n",
    "\n",
    "# Combine all toxic comments with sampled non-toxic comments\n",
    "train = pd.concat([train_set[train_set.toxicity!=0], nontoxic_sample]).sort_index()\n",
    "train = train[['comment_text', 'toxicity']]\n",
    "\n",
    "# Display new distribution after sampling\n",
    "train.toxicity.value_counts()"
   ]
  },
  {
   "cell_type": "markdown",
   "id": "e88d09b8",
   "metadata": {},
   "source": [
    "## Text Tokenization and Sequence Preparation\n",
    "\n",
    "Convert cleaned text into numerical sequences that can be fed into our neural network model."
   ]
  },
  {
   "cell_type": "code",
   "execution_count": null,
   "id": "4be742a8",
   "metadata": {
    "execution": {
     "iopub.execute_input": "2021-11-20T15:58:45.519640Z",
     "iopub.status.busy": "2021-11-20T15:58:45.518934Z",
     "iopub.status.idle": "2021-11-20T15:59:28.555933Z",
     "shell.execute_reply": "2021-11-20T15:59:28.555453Z",
     "shell.execute_reply.started": "2021-11-20T15:36:19.388672Z"
    },
    "papermill": {
     "duration": 43.056822,
     "end_time": "2021-11-20T15:59:28.556112",
     "exception": false,
     "start_time": "2021-11-20T15:58:45.499290",
     "status": "completed"
    },
    "tags": []
   },
   "outputs": [],
   "source": [
    "# Apply text cleaning to both training and test datasets\n",
    "train['comment_text'] = clean_data(train.comment_text)\n",
    "test['text'] = clean_data(test.text)\n",
    "\n",
    "# Set maximum sequence length for padding/truncation\n",
    "max_sequence_len = 250\n",
    "\n",
    "# Initialize and fit tokenizer on training text\n",
    "tokenizer = Tokenizer()\n",
    "tokenizer.fit_on_texts(train.comment_text)\n",
    "total_words = len(tokenizer.word_index)+1\n",
    "\n",
    "# Convert text to sequences and apply padding\n",
    "X = tokenizer.texts_to_sequences(train.comment_text)\n",
    "X = pad_sequences(X, maxlen = max_sequence_len, padding='pre')\n",
    "\n",
    "# Prepare test sequences using the same tokenizer\n",
    "x_test = tokenizer.texts_to_sequences(test.text)\n",
    "x_test = pad_sequences(x_test, maxlen = max_sequence_len)\n",
    "\n",
    "# Prepare target variable\n",
    "y = train.toxicity.astype(np.int8)"
   ]
  },
  {
   "cell_type": "markdown",
   "id": "19be3f93",
   "metadata": {},
   "source": [
    "## Vocabulary Analysis: Toxic vs Non-Toxic Words\n",
    "\n",
    "Let's analyze which words appear more frequently in toxic vs non-toxic comments to understand the linguistic patterns."
   ]
  },
  {
   "cell_type": "code",
   "execution_count": null,
   "id": "493f6b7d",
   "metadata": {
    "_kg_hide-input": true,
    "execution": {
     "iopub.execute_input": "2021-11-20T15:59:28.591705Z",
     "iopub.status.busy": "2021-11-20T15:59:28.590904Z",
     "iopub.status.idle": "2021-11-20T15:59:29.679983Z",
     "shell.execute_reply": "2021-11-20T15:59:29.679064Z",
     "shell.execute_reply.started": "2021-11-20T15:21:44.364058Z"
    },
    "papermill": {
     "duration": 1.110034,
     "end_time": "2021-11-20T15:59:29.680127",
     "exception": false,
     "start_time": "2021-11-20T15:59:28.570093",
     "status": "completed"
    },
    "tags": []
   },
   "outputs": [],
   "source": [
    "# Create separate tokenizers for non-toxic and toxic comments\n",
    "non_toxic_tokenizer = Tokenizer()\n",
    "non_toxic_tokenizer.fit_on_texts(train[train.toxicity==0].comment_text)\n",
    "non_toxic_count = non_toxic_tokenizer.word_counts\n",
    "non_toxic_count = sorted(dict(non_toxic_count).items(), key=lambda tup: tup[1], reverse=True)\n",
    "\n",
    "toxic_tokenizer = Tokenizer()\n",
    "toxic_tokenizer.fit_on_texts(train[train.toxicity>0].comment_text)\n",
    "toxic_count = toxic_tokenizer.word_counts\n",
    "# Focus on top 200 most frequent words in toxic comments\n",
    "toxic_count = sorted(dict(toxic_count).items(), key=lambda tup: tup[1], reverse=True)[:200]\n",
    "\n",
    "# Merge word counts and calculate frequency ratios\n",
    "all_words = pd.DataFrame(toxic_count).merge(pd.DataFrame(non_toxic_count), how='left', on=0)\n",
    "all_words = all_words.dropna().reset_index()\n",
    "\n",
    "# Calculate log ratio to identify words more common in toxic vs non-toxic comments\n",
    "all_words['ratio'] = np.log(all_words['1_x'] / all_words['1_y'])"
   ]
  },
  {
   "cell_type": "markdown",
   "id": "4370c015",
   "metadata": {},
   "source": [
    "## Vocabulary Visualization\n",
    "\n",
    "Create an interactive scatter plot to visualize the relationship between word frequency in toxic vs non-toxic comments."
   ]
  },
  {
   "cell_type": "code",
   "execution_count": null,
   "id": "b4bbd7b8",
   "metadata": {
    "_kg_hide-input": true,
    "execution": {
     "iopub.execute_input": "2021-11-20T15:59:29.713206Z",
     "iopub.status.busy": "2021-11-20T15:59:29.712656Z",
     "iopub.status.idle": "2021-11-20T15:59:32.404203Z",
     "shell.execute_reply": "2021-11-20T15:59:32.403625Z",
     "shell.execute_reply.started": "2021-11-20T15:21:45.819807Z"
    },
    "papermill": {
     "duration": 2.71021,
     "end_time": "2021-11-20T15:59:32.404333",
     "exception": false,
     "start_time": "2021-11-20T15:59:29.694123",
     "status": "completed"
    },
    "tags": []
   },
   "outputs": [
    {
     "data": {
      "text/html": [
       "        <script type=\"text/javascript\">\n",
       "        window.PlotlyConfig = {MathJaxConfig: 'local'};\n",
       "        if (window.MathJax) {MathJax.Hub.Config({SVG: {font: \"STIX-Web\"}});}\n",
       "        if (typeof require !== 'undefined') {\n",
       "        require.undef(\"plotly\");\n",
       "        requirejs.config({\n",
       "            paths: {\n",
       "                'plotly': ['https://cdn.plot.ly/plotly-2.4.2.min']\n",
       "            }\n",
       "        });\n",
       "        require(['plotly'], function(Plotly) {\n",
       "            window._Plotly = Plotly;\n",
       "        });\n",
       "        }\n",
       "        </script>\n",
       "        "
      ]
     },
     "metadata": {},
     "output_type": "display_data"
    },
    {
     "data": {
      "text/html": [
       "<div>                            <div id=\"ae8c7a6c-5d1a-4482-a73b-04e54046c399\" class=\"plotly-graph-div\" style=\"height:800px; width:100%;\"></div>            <script type=\"text/javascript\">                require([\"plotly\"], function(Plotly) {                    window.PLOTLYENV=window.PLOTLYENV || {};                                    if (document.getElementById(\"ae8c7a6c-5d1a-4482-a73b-04e54046c399\")) {                    Plotly.newPlot(                        \"ae8c7a6c-5d1a-4482-a73b-04e54046c399\",                        [{\"hovertemplate\":\"Number of word's appearance in non-toxic comments=%{x}<br>Number of word's appearance in toxic comments=%{y}<br>0=%{text}<br>ratio=%{marker.color}<extra></extra>\",\"legendgroup\":\"\",\"marker\":{\"color\":[7.1308988302963465,0.39254654911660786,5.269755435686123,-0.18513092925207644,6.504288173536645,6.311432283057732,6.006660993989264,6.215940543655971,1.2997329278948822,2.6100697927420065,3.2498475223666885,0.7538229075252351,-0.6245899374738413,0.2806743352943762,3.6486752066018093,4.085042169559787,0.21495665270962774,6.2285110035911835,4.819272992650152,6.155919102073512,6.418908561934922,0.6374826130017613,-0.5284138705296157,6.666320457695676,-1.3008461629114412,-0.8812086345602451,1.0483115501933107,3.3951793093365925,5.890262041598819,0.08675532782679188,-0.3396372808683466,4.039389601348587,5.017279836814924,4.2017030805426,0.20793413265068095,0.8558062871483405,5.180177124243811,-0.24765090438634363,-0.9437454303385648,4.494668270829846,1.3120627107766598,0.7858565786642129,-0.1405244281154932,1.6677997616799425,4.491441420659749,-0.14848494229158096,-0.5225106417556682,-1.0461240197629873,-0.745495580316109,0.27809427129662745,5.5422434570447745,0.4253464786619933,4.714522722915455,0.6074767357189464,3.899950424193877,2.802314902504982,6.164366881985445,0.6608515858685946,0.02580064594473325,-0.35621347646399953,2.329918939695081,1.0752740065396222,-0.9217977492636394,0.8332723850326992,6.716594773520978,2.554073117317398,-0.08609966138172628,-0.4009890070437285,3.3235464474320895,3.6712245188752153,3.613488608147325,-0.005181358741997629,5.953243334287785,-0.373716409793584,1.110400244420152,0.8221774403036765,5.247024072160486,0.4958671398356549,-0.2677118707940863,0.5360370431124867,3.586292865338835,3.6094944248593706,-0.07828291839404407,0.521902067373387,0.5889434030299426,-0.020086758566737344,0.07545055458855385,-0.3960938927949128,0.5679840376059393,4.881285622068407,2.726483902791048,0.21364680377695258,0.6962479582381935,1.1594310287031488,0.3352072143146262,-0.26586601892121675,0.07260571849113234,0.6500439401424392,5.319752647268102,2.6522588414737944],\"coloraxis\":\"coloraxis\",\"symbol\":\"circle\"},\"mode\":\"markers+text\",\"name\":\"\",\"orientation\":\"v\",\"showlegend\":false,\"text\":[\"fuck\",\"like\",\"shit\",\"wikipedia\",\"fucking\",\"nigger\",\"suck\",\"ass\",\"go\",\"u\",\"hate\",\"get\",\"page\",\"know\",\"gay\",\"die\",\"people\",\"faggot\",\"fat\",\"moron\",\"bitch\",\"hi\",\"one\",\"cunt\",\"article\",\"talk\",\"stop\",\"stupid\",\"sucks\",\"user\",\"think\",\"jew\",\"pig\",\"dick\",\"want\",\"wiki\",\"penis\",\"time\",\"would\",\"bullshit\",\"life\",\"block\",\"even\",\"dont\",\"asshole\",\"make\",\"edit\",\"please\",\"see\",\"right\",\"fag\",\"going\",\"balls\",\"vandalism\",\"idiot\",\"sex\",\"cock\",\"little\",\"really\",\"good\",\"piece\",\"bad\",\"also\",\"hey\",\"nipple\",\"hell\",\"say\",\"well\",\"kill\",\"aids\",\"eat\",\"back\",\"dickhead\",\"way\",\"care\",\"admin\",\"bastard\",\"nothing\",\"edits\",\"give\",\"shut\",\"damn\",\"take\",\"come\",\"old\",\"said\",\"blocked\",\"need\",\"love\",\"loser\",\"freedom\",\"never\",\"tell\",\"big\",\"keep\",\"still\",\"person\",\"ever\",\"twat\",\"rape\"],\"textposition\":\"top center\",\"type\":\"scatter\",\"x\":[8.0,2571.0,19.0,4420.0,5.0,6.0,8.0,6.0,808.0,215.0,103.0,1151.0,4439.0,1790.0,59.0,36.0,1668.0,4.0,16.0,4.0,3.0,905.0,2887.0,2.0,5762.0,3739.0,530.0,50.0,4.0,1302.0,1962.0,24.0,9.0,20.0,1060.0,535.0,7.0,1518.0,2991.0,13.0,311.0,525.0,1312.0,203.0,12.0,1232.0,1779.0,2969.0,2196.0,786.0,4.0,664.0,9.0,542.0,20.0,58.0,2.0,472.0,880.0,1238.0,83.0,289.0,2094.0,359.0,1.0,64.0,897.0,1226.0,29.0,20.0,21.0,774.0,2.0,1116.0,253.0,334.0,4.0,458.0,975.0,423.0,20.0,19.0,757.0,413.0,384.0,704.0,638.0,1009.0,374.0,5.0,43.0,529.0,322.0,202.0,452.0,801.0,571.0,320.0,3.0,43.0],\"xaxis\":\"x\",\"y\":[10000,3807,3693,3673,3340,3305,3249,3004,2964,2924,2656,2446,2377,2370,2267,2140,2068,2028,1982,1886,1840,1712,1702,1571,1569,1549,1512,1491,1446,1420,1397,1363,1359,1336,1305,1259,1244,1185,1164,1164,1155,1152,1140,1076,1071,1062,1055,1043,1042,1038,1021,1016,1004,995,988,956,951,914,903,867,853,847,833,826,826,823,823,821,805,786,779,770,770,768,768,760,760,752,746,723,722,702,700,696,692,690,688,679,660,659,657,655,646,644,632,614,614,613,613,610],\"yaxis\":\"y\"}],                        {\"coloraxis\":{\"colorbar\":{\"title\":{\"text\":\"ratio\"}},\"colorscale\":[[0.0,\"rgb(12,51,131)\"],[0.25,\"rgb(10,136,186)\"],[0.5,\"rgb(242,211,56)\"],[0.75,\"rgb(242,143,56)\"],[1.0,\"rgb(217,30,30)\"]],\"showscale\":false},\"height\":800,\"legend\":{\"tracegroupgap\":0},\"margin\":{\"t\":60},\"template\":{\"data\":{\"bar\":[{\"error_x\":{\"color\":\"#2a3f5f\"},\"error_y\":{\"color\":\"#2a3f5f\"},\"marker\":{\"line\":{\"color\":\"#E5ECF6\",\"width\":0.5},\"pattern\":{\"fillmode\":\"overlay\",\"size\":10,\"solidity\":0.2}},\"type\":\"bar\"}],\"barpolar\":[{\"marker\":{\"line\":{\"color\":\"#E5ECF6\",\"width\":0.5},\"pattern\":{\"fillmode\":\"overlay\",\"size\":10,\"solidity\":0.2}},\"type\":\"barpolar\"}],\"carpet\":[{\"aaxis\":{\"endlinecolor\":\"#2a3f5f\",\"gridcolor\":\"white\",\"linecolor\":\"white\",\"minorgridcolor\":\"white\",\"startlinecolor\":\"#2a3f5f\"},\"baxis\":{\"endlinecolor\":\"#2a3f5f\",\"gridcolor\":\"white\",\"linecolor\":\"white\",\"minorgridcolor\":\"white\",\"startlinecolor\":\"#2a3f5f\"},\"type\":\"carpet\"}],\"choropleth\":[{\"colorbar\":{\"outlinewidth\":0,\"ticks\":\"\"},\"type\":\"choropleth\"}],\"contour\":[{\"colorbar\":{\"outlinewidth\":0,\"ticks\":\"\"},\"colorscale\":[[0.0,\"#0d0887\"],[0.1111111111111111,\"#46039f\"],[0.2222222222222222,\"#7201a8\"],[0.3333333333333333,\"#9c179e\"],[0.4444444444444444,\"#bd3786\"],[0.5555555555555556,\"#d8576b\"],[0.6666666666666666,\"#ed7953\"],[0.7777777777777778,\"#fb9f3a\"],[0.8888888888888888,\"#fdca26\"],[1.0,\"#f0f921\"]],\"type\":\"contour\"}],\"contourcarpet\":[{\"colorbar\":{\"outlinewidth\":0,\"ticks\":\"\"},\"type\":\"contourcarpet\"}],\"heatmap\":[{\"colorbar\":{\"outlinewidth\":0,\"ticks\":\"\"},\"colorscale\":[[0.0,\"#0d0887\"],[0.1111111111111111,\"#46039f\"],[0.2222222222222222,\"#7201a8\"],[0.3333333333333333,\"#9c179e\"],[0.4444444444444444,\"#bd3786\"],[0.5555555555555556,\"#d8576b\"],[0.6666666666666666,\"#ed7953\"],[0.7777777777777778,\"#fb9f3a\"],[0.8888888888888888,\"#fdca26\"],[1.0,\"#f0f921\"]],\"type\":\"heatmap\"}],\"heatmapgl\":[{\"colorbar\":{\"outlinewidth\":0,\"ticks\":\"\"},\"colorscale\":[[0.0,\"#0d0887\"],[0.1111111111111111,\"#46039f\"],[0.2222222222222222,\"#7201a8\"],[0.3333333333333333,\"#9c179e\"],[0.4444444444444444,\"#bd3786\"],[0.5555555555555556,\"#d8576b\"],[0.6666666666666666,\"#ed7953\"],[0.7777777777777778,\"#fb9f3a\"],[0.8888888888888888,\"#fdca26\"],[1.0,\"#f0f921\"]],\"type\":\"heatmapgl\"}],\"histogram\":[{\"marker\":{\"pattern\":{\"fillmode\":\"overlay\",\"size\":10,\"solidity\":0.2}},\"type\":\"histogram\"}],\"histogram2d\":[{\"colorbar\":{\"outlinewidth\":0,\"ticks\":\"\"},\"colorscale\":[[0.0,\"#0d0887\"],[0.1111111111111111,\"#46039f\"],[0.2222222222222222,\"#7201a8\"],[0.3333333333333333,\"#9c179e\"],[0.4444444444444444,\"#bd3786\"],[0.5555555555555556,\"#d8576b\"],[0.6666666666666666,\"#ed7953\"],[0.7777777777777778,\"#fb9f3a\"],[0.8888888888888888,\"#fdca26\"],[1.0,\"#f0f921\"]],\"type\":\"histogram2d\"}],\"histogram2dcontour\":[{\"colorbar\":{\"outlinewidth\":0,\"ticks\":\"\"},\"colorscale\":[[0.0,\"#0d0887\"],[0.1111111111111111,\"#46039f\"],[0.2222222222222222,\"#7201a8\"],[0.3333333333333333,\"#9c179e\"],[0.4444444444444444,\"#bd3786\"],[0.5555555555555556,\"#d8576b\"],[0.6666666666666666,\"#ed7953\"],[0.7777777777777778,\"#fb9f3a\"],[0.8888888888888888,\"#fdca26\"],[1.0,\"#f0f921\"]],\"type\":\"histogram2dcontour\"}],\"mesh3d\":[{\"colorbar\":{\"outlinewidth\":0,\"ticks\":\"\"},\"type\":\"mesh3d\"}],\"parcoords\":[{\"line\":{\"colorbar\":{\"outlinewidth\":0,\"ticks\":\"\"}},\"type\":\"parcoords\"}],\"pie\":[{\"automargin\":true,\"type\":\"pie\"}],\"scatter\":[{\"marker\":{\"colorbar\":{\"outlinewidth\":0,\"ticks\":\"\"}},\"type\":\"scatter\"}],\"scatter3d\":[{\"line\":{\"colorbar\":{\"outlinewidth\":0,\"ticks\":\"\"}},\"marker\":{\"colorbar\":{\"outlinewidth\":0,\"ticks\":\"\"}},\"type\":\"scatter3d\"}],\"scattercarpet\":[{\"marker\":{\"colorbar\":{\"outlinewidth\":0,\"ticks\":\"\"}},\"type\":\"scattercarpet\"}],\"scattergeo\":[{\"marker\":{\"colorbar\":{\"outlinewidth\":0,\"ticks\":\"\"}},\"type\":\"scattergeo\"}],\"scattergl\":[{\"marker\":{\"colorbar\":{\"outlinewidth\":0,\"ticks\":\"\"}},\"type\":\"scattergl\"}],\"scattermapbox\":[{\"marker\":{\"colorbar\":{\"outlinewidth\":0,\"ticks\":\"\"}},\"type\":\"scattermapbox\"}],\"scatterpolar\":[{\"marker\":{\"colorbar\":{\"outlinewidth\":0,\"ticks\":\"\"}},\"type\":\"scatterpolar\"}],\"scatterpolargl\":[{\"marker\":{\"colorbar\":{\"outlinewidth\":0,\"ticks\":\"\"}},\"type\":\"scatterpolargl\"}],\"scatterternary\":[{\"marker\":{\"colorbar\":{\"outlinewidth\":0,\"ticks\":\"\"}},\"type\":\"scatterternary\"}],\"surface\":[{\"colorbar\":{\"outlinewidth\":0,\"ticks\":\"\"},\"colorscale\":[[0.0,\"#0d0887\"],[0.1111111111111111,\"#46039f\"],[0.2222222222222222,\"#7201a8\"],[0.3333333333333333,\"#9c179e\"],[0.4444444444444444,\"#bd3786\"],[0.5555555555555556,\"#d8576b\"],[0.6666666666666666,\"#ed7953\"],[0.7777777777777778,\"#fb9f3a\"],[0.8888888888888888,\"#fdca26\"],[1.0,\"#f0f921\"]],\"type\":\"surface\"}],\"table\":[{\"cells\":{\"fill\":{\"color\":\"#EBF0F8\"},\"line\":{\"color\":\"white\"}},\"header\":{\"fill\":{\"color\":\"#C8D4E3\"},\"line\":{\"color\":\"white\"}},\"type\":\"table\"}]},\"layout\":{\"annotationdefaults\":{\"arrowcolor\":\"#2a3f5f\",\"arrowhead\":0,\"arrowwidth\":1},\"autotypenumbers\":\"strict\",\"coloraxis\":{\"colorbar\":{\"outlinewidth\":0,\"ticks\":\"\"}},\"colorscale\":{\"diverging\":[[0,\"#8e0152\"],[0.1,\"#c51b7d\"],[0.2,\"#de77ae\"],[0.3,\"#f1b6da\"],[0.4,\"#fde0ef\"],[0.5,\"#f7f7f7\"],[0.6,\"#e6f5d0\"],[0.7,\"#b8e186\"],[0.8,\"#7fbc41\"],[0.9,\"#4d9221\"],[1,\"#276419\"]],\"sequential\":[[0.0,\"#0d0887\"],[0.1111111111111111,\"#46039f\"],[0.2222222222222222,\"#7201a8\"],[0.3333333333333333,\"#9c179e\"],[0.4444444444444444,\"#bd3786\"],[0.5555555555555556,\"#d8576b\"],[0.6666666666666666,\"#ed7953\"],[0.7777777777777778,\"#fb9f3a\"],[0.8888888888888888,\"#fdca26\"],[1.0,\"#f0f921\"]],\"sequentialminus\":[[0.0,\"#0d0887\"],[0.1111111111111111,\"#46039f\"],[0.2222222222222222,\"#7201a8\"],[0.3333333333333333,\"#9c179e\"],[0.4444444444444444,\"#bd3786\"],[0.5555555555555556,\"#d8576b\"],[0.6666666666666666,\"#ed7953\"],[0.7777777777777778,\"#fb9f3a\"],[0.8888888888888888,\"#fdca26\"],[1.0,\"#f0f921\"]]},\"colorway\":[\"#636efa\",\"#EF553B\",\"#00cc96\",\"#ab63fa\",\"#FFA15A\",\"#19d3f3\",\"#FF6692\",\"#B6E880\",\"#FF97FF\",\"#FECB52\"],\"font\":{\"color\":\"#2a3f5f\"},\"geo\":{\"bgcolor\":\"white\",\"lakecolor\":\"white\",\"landcolor\":\"#E5ECF6\",\"showlakes\":true,\"showland\":true,\"subunitcolor\":\"white\"},\"hoverlabel\":{\"align\":\"left\"},\"hovermode\":\"closest\",\"mapbox\":{\"style\":\"light\"},\"paper_bgcolor\":\"white\",\"plot_bgcolor\":\"#E5ECF6\",\"polar\":{\"angularaxis\":{\"gridcolor\":\"white\",\"linecolor\":\"white\",\"ticks\":\"\"},\"bgcolor\":\"#E5ECF6\",\"radialaxis\":{\"gridcolor\":\"white\",\"linecolor\":\"white\",\"ticks\":\"\"}},\"scene\":{\"xaxis\":{\"backgroundcolor\":\"#E5ECF6\",\"gridcolor\":\"white\",\"gridwidth\":2,\"linecolor\":\"white\",\"showbackground\":true,\"ticks\":\"\",\"zerolinecolor\":\"white\"},\"yaxis\":{\"backgroundcolor\":\"#E5ECF6\",\"gridcolor\":\"white\",\"gridwidth\":2,\"linecolor\":\"white\",\"showbackground\":true,\"ticks\":\"\",\"zerolinecolor\":\"white\"},\"zaxis\":{\"backgroundcolor\":\"#E5ECF6\",\"gridcolor\":\"white\",\"gridwidth\":2,\"linecolor\":\"white\",\"showbackground\":true,\"ticks\":\"\",\"zerolinecolor\":\"white\"}},\"shapedefaults\":{\"line\":{\"color\":\"#2a3f5f\"}},\"ternary\":{\"aaxis\":{\"gridcolor\":\"white\",\"linecolor\":\"white\",\"ticks\":\"\"},\"baxis\":{\"gridcolor\":\"white\",\"linecolor\":\"white\",\"ticks\":\"\"},\"bgcolor\":\"#E5ECF6\",\"caxis\":{\"gridcolor\":\"white\",\"linecolor\":\"white\",\"ticks\":\"\"}},\"title\":{\"x\":0.05},\"xaxis\":{\"automargin\":true,\"gridcolor\":\"white\",\"linecolor\":\"white\",\"ticks\":\"\",\"title\":{\"standoff\":15},\"zerolinecolor\":\"white\",\"zerolinewidth\":2},\"yaxis\":{\"automargin\":true,\"gridcolor\":\"white\",\"linecolor\":\"white\",\"ticks\":\"\",\"title\":{\"standoff\":15},\"zerolinecolor\":\"white\",\"zerolinewidth\":2}}},\"title\":{\"text\":\"100 most frequent words in toxic comments\"},\"xaxis\":{\"anchor\":\"y\",\"domain\":[0.0,1.0],\"title\":{\"text\":\"Number of word's appearance in non-toxic comments\"},\"type\":\"log\"},\"yaxis\":{\"anchor\":\"x\",\"domain\":[0.0,1.0],\"title\":{\"text\":\"Number of word's appearance in toxic comments\"},\"type\":\"log\"}},                        {\"responsive\": true}                    ).then(function(){\n",
       "                            \n",
       "var gd = document.getElementById('ae8c7a6c-5d1a-4482-a73b-04e54046c399');\n",
       "var x = new MutationObserver(function (mutations, observer) {{\n",
       "        var display = window.getComputedStyle(gd).display;\n",
       "        if (!display || display === 'none') {{\n",
       "            console.log([gd, 'removed!']);\n",
       "            Plotly.purge(gd);\n",
       "            observer.disconnect();\n",
       "        }}\n",
       "}});\n",
       "\n",
       "// Listen for the removal of the full notebook cells\n",
       "var notebookContainer = gd.closest('#notebook-container');\n",
       "if (notebookContainer) {{\n",
       "    x.observe(notebookContainer, {childList: true});\n",
       "}}\n",
       "\n",
       "// Listen for the clearing of the current output cell\n",
       "var outputEl = gd.closest('.output');\n",
       "if (outputEl) {{\n",
       "    x.observe(outputEl, {childList: true});\n",
       "}}\n",
       "\n",
       "                        })                };                });            </script>        </div>"
      ]
     },
     "metadata": {},
     "output_type": "display_data"
    }
   ],
   "source": [
    "import plotly.express as px\n",
    "\n",
    "# Create interactive scatter plot showing word frequency patterns\n",
    "fig = px.scatter(all_words.iloc[:100], x=\"1_y\", y=\"1_x\", text=0, log_x=True, log_y=True, color=\"ratio\", color_continuous_scale='Portland',\n",
    "                labels={\n",
    "                     \"1_x\": \"Frequency in toxic comments\",\n",
    "                     \"1_y\": \"Frequency in non-toxic comments\"})\n",
    "\n",
    "fig.update_traces(textposition='top center')\n",
    "\n",
    "fig.update_layout(\n",
    "    height=800,\n",
    "    title_text='Top 100 Most Frequent Words in Toxic Comments: Distribution Analysis',\n",
    "    coloraxis_showscale=False)\n",
    "\n",
    "fig.show()"
   ]
  },
  {
   "cell_type": "markdown",
   "id": "3790e06b",
   "metadata": {},
   "source": [
    "## Transformer Model Architecture\n",
    "\n",
    "Now we'll implement a custom transformer model with multi-head attention mechanism for sequence classification.\n",
    "\n",
    "### Model Components:\n",
    "1. **Token and Position Embedding**: Converts tokens to embeddings and adds positional information\n",
    "2. **Transformer Blocks**: Multi-head attention with feed-forward networks\n",
    "3. **Classification Head**: Dense layers for final prediction"
   ]
  },
  {
   "cell_type": "code",
   "execution_count": null,
   "id": "16a84ec3",
   "metadata": {
    "execution": {
     "iopub.execute_input": "2021-11-20T15:59:32.449667Z",
     "iopub.status.busy": "2021-11-20T15:59:32.446461Z",
     "iopub.status.idle": "2021-11-20T15:59:32.453008Z",
     "shell.execute_reply": "2021-11-20T15:59:32.452594Z",
     "shell.execute_reply.started": "2021-11-20T15:41:01.361063Z"
    },
    "papermill": {
     "duration": 0.033857,
     "end_time": "2021-11-20T15:59:32.453119",
     "exception": false,
     "start_time": "2021-11-20T15:59:32.419262",
     "status": "completed"
    },
    "tags": []
   },
   "outputs": [],
   "source": [
    "# Define model hyperparameters\n",
    "embedding_dim = 256  # Dimension of token embeddings\n",
    "num_heads = 4        # Number of attention heads in multi-head attention\n",
    "ff_dim = 384         # Hidden layer size in feed-forward network\n",
    "batch_size = 128     # Training batch size\n",
    "classes = len(y.unique())  # Number of output classes\n",
    "\n",
    "\n",
    "class TransformerBlock(layers.Layer):\n",
    "    \"\"\"\n",
    "    Custom Transformer block implementing multi-head attention with residual connections.\n",
    "    \n",
    "    Components:\n",
    "    - Multi-head attention mechanism\n",
    "    - Feed-forward network with ReLU activation\n",
    "    - Layer normalization and dropout for regularization\n",
    "    - Residual connections around both attention and feed-forward layers\n",
    "    \"\"\"\n",
    "    def __init__(self, embed_dim, num_heads, ff_dim, rate=0.1):\n",
    "        super(TransformerBlock, self).__init__()\n",
    "        self.att = layers.MultiHeadAttention(num_heads=num_heads, key_dim=embedding_dim)\n",
    "        self.ffn = keras.Sequential([\n",
    "            layers.Dense(ff_dim, activation=\"relu\"), \n",
    "            layers.Dense(embedding_dim),\n",
    "        ])\n",
    "        self.layernorm1 = layers.LayerNormalization(epsilon=1e-6)\n",
    "        self.layernorm2 = layers.LayerNormalization(epsilon=1e-6)\n",
    "        self.dropout1 = layers.Dropout(rate)\n",
    "        self.dropout2 = layers.Dropout(rate)\n",
    "\n",
    "    def call(self, inputs, training):\n",
    "        # Multi-head attention with residual connection\n",
    "        attn_output = self.att(inputs, inputs)\n",
    "        attn_output = self.dropout1(attn_output, training=training)\n",
    "        out1 = self.layernorm1(inputs + attn_output)\n",
    "        \n",
    "        # Feed-forward network with residual connection\n",
    "        ffn_output = self.ffn(out1)\n",
    "        ffn_output = self.dropout2(ffn_output, training=training)\n",
    "        return self.layernorm2(out1 + ffn_output)\n",
    "\n",
    "    \n",
    "class TokenAndPositionEmbedding(layers.Layer):\n",
    "    \"\"\"\n",
    "    Combines token embeddings with positional embeddings.\n",
    "    \n",
    "    This allows the model to understand both the meaning of words (token embeddings)\n",
    "    and their position in the sequence (positional embeddings).\n",
    "    \"\"\"\n",
    "    def __init__(self, maxlen, vocab_size, embed_dim):\n",
    "        super(TokenAndPositionEmbedding, self).__init__()\n",
    "        self.token_emb = layers.Embedding(input_dim=vocab_size, output_dim=embedding_dim)\n",
    "        self.pos_emb = layers.Embedding(input_dim=maxlen, output_dim=embedding_dim)\n",
    "\n",
    "    def call(self, x):\n",
    "        maxlen = tf.shape(x)[-1]\n",
    "        positions = tf.range(start=0, limit=maxlen, delta=1)\n",
    "        positions = self.pos_emb(positions)\n",
    "        x = self.token_emb(x)\n",
    "        return x + positions"
   ]
  },
  {
   "cell_type": "markdown",
   "id": "7930117f",
   "metadata": {},
   "source": [
    "## Model Construction and Compilation\n",
    "\n",
    "Build the complete model by stacking embedding layers, transformer blocks, and classification layers."
   ]
  },
  {
   "cell_type": "code",
   "execution_count": null,
   "id": "05dfd749",
   "metadata": {
    "execution": {
     "iopub.execute_input": "2021-11-20T15:59:32.490603Z",
     "iopub.status.busy": "2021-11-20T15:59:32.489915Z",
     "iopub.status.idle": "2021-11-20T15:59:35.392327Z",
     "shell.execute_reply": "2021-11-20T15:59:35.391813Z",
     "shell.execute_reply.started": "2021-11-20T15:41:26.540777Z"
    },
    "papermill": {
     "duration": 2.924331,
     "end_time": "2021-11-20T15:59:35.392469",
     "exception": false,
     "start_time": "2021-11-20T15:59:32.468138",
     "status": "completed"
    },
    "tags": []
   },
   "outputs": [
    {
     "name": "stderr",
     "output_type": "stream",
     "text": [
      "2021-11-20 15:59:32.630809: I tensorflow/stream_executor/cuda/cuda_gpu_executor.cc:937] successful NUMA node read from SysFS had negative value (-1), but there must be at least one NUMA node, so returning NUMA node zero\n",
      "2021-11-20 15:59:32.631839: I tensorflow/stream_executor/cuda/cuda_gpu_executor.cc:937] successful NUMA node read from SysFS had negative value (-1), but there must be at least one NUMA node, so returning NUMA node zero\n",
      "2021-11-20 15:59:32.632510: I tensorflow/stream_executor/cuda/cuda_gpu_executor.cc:937] successful NUMA node read from SysFS had negative value (-1), but there must be at least one NUMA node, so returning NUMA node zero\n",
      "2021-11-20 15:59:32.633307: I tensorflow/core/platform/cpu_feature_guard.cc:142] This TensorFlow binary is optimized with oneAPI Deep Neural Network Library (oneDNN) to use the following CPU instructions in performance-critical operations:  AVX2 AVX512F FMA\n",
      "To enable them in other operations, rebuild TensorFlow with the appropriate compiler flags.\n",
      "2021-11-20 15:59:32.634412: I tensorflow/stream_executor/cuda/cuda_gpu_executor.cc:937] successful NUMA node read from SysFS had negative value (-1), but there must be at least one NUMA node, so returning NUMA node zero\n",
      "2021-11-20 15:59:32.635048: I tensorflow/stream_executor/cuda/cuda_gpu_executor.cc:937] successful NUMA node read from SysFS had negative value (-1), but there must be at least one NUMA node, so returning NUMA node zero\n",
      "2021-11-20 15:59:32.635671: I tensorflow/stream_executor/cuda/cuda_gpu_executor.cc:937] successful NUMA node read from SysFS had negative value (-1), but there must be at least one NUMA node, so returning NUMA node zero\n",
      "2021-11-20 15:59:34.715983: I tensorflow/stream_executor/cuda/cuda_gpu_executor.cc:937] successful NUMA node read from SysFS had negative value (-1), but there must be at least one NUMA node, so returning NUMA node zero\n",
      "2021-11-20 15:59:34.716897: I tensorflow/stream_executor/cuda/cuda_gpu_executor.cc:937] successful NUMA node read from SysFS had negative value (-1), but there must be at least one NUMA node, so returning NUMA node zero\n",
      "2021-11-20 15:59:34.717721: I tensorflow/stream_executor/cuda/cuda_gpu_executor.cc:937] successful NUMA node read from SysFS had negative value (-1), but there must be at least one NUMA node, so returning NUMA node zero\n",
      "2021-11-20 15:59:34.718468: I tensorflow/core/common_runtime/gpu/gpu_device.cc:1510] Created device /job:localhost/replica:0/task:0/device:GPU:0 with 15385 MB memory:  -> device: 0, name: Tesla P100-PCIE-16GB, pci bus id: 0000:00:04.0, compute capability: 6.0\n"
     ]
    }
   ],
   "source": [
    "# Build the complete transformer model architecture\n",
    "inputs = layers.Input(shape=(max_sequence_len,))\n",
    "\n",
    "# Apply token and position embeddings\n",
    "embedding_layer = TokenAndPositionEmbedding(max_sequence_len, total_words, embedding_dim)\n",
    "x = embedding_layer(inputs)\n",
    "\n",
    "# Stack two transformer blocks for deeper representation learning\n",
    "x = TransformerBlock(embedding_dim, num_heads, ff_dim)(x)\n",
    "x = TransformerBlock(embedding_dim, num_heads, ff_dim)(x)\n",
    "\n",
    "# Flatten transformer output and add classification layers\n",
    "x = layers.Flatten()(x)\n",
    "x = layers.Dropout(0.2)(x)\n",
    "x = layers.Dense(256, activation=\"relu\")(x)\n",
    "x = layers.Dropout(0.2)(x)\n",
    "\n",
    "# Final classification layer with softmax for multi-class probability distribution\n",
    "outputs = layers.Dense(classes, activation=\"softmax\")(x)\n",
    "\n",
    "# Create and compile the model\n",
    "model = keras.Model(inputs=inputs, outputs=outputs)\n",
    "model.compile(\n",
    "    loss='sparse_categorical_crossentropy', \n",
    "    optimizer=tf.keras.optimizers.RMSprop(learning_rate=7e-5), \n",
    "    metrics=['accuracy']\n",
    ")"
   ]
  },
  {
   "cell_type": "markdown",
   "id": "a44be6df",
   "metadata": {},
   "source": [
    "## Model Architecture Summary\n",
    "\n",
    "Let's examine the model structure and visualize its architecture."
   ]
  },
  {
   "cell_type": "code",
   "execution_count": null,
   "id": "fe736324",
   "metadata": {
    "execution": {
     "iopub.execute_input": "2021-11-20T15:59:35.426984Z",
     "iopub.status.busy": "2021-11-20T15:59:35.426447Z",
     "iopub.status.idle": "2021-11-20T15:59:35.436736Z",
     "shell.execute_reply": "2021-11-20T15:59:35.437117Z",
     "shell.execute_reply.started": "2021-11-20T15:41:28.303458Z"
    },
    "papermill": {
     "duration": 0.029637,
     "end_time": "2021-11-20T15:59:35.437303",
     "exception": false,
     "start_time": "2021-11-20T15:59:35.407666",
     "status": "completed"
    },
    "tags": []
   },
   "outputs": [
    {
     "name": "stdout",
     "output_type": "stream",
     "text": [
      "Model: \"model\"\n",
      "_________________________________________________________________\n",
      "Layer (type)                 Output Shape              Param #   \n",
      "=================================================================\n",
      "input_1 (InputLayer)         [(None, 250)]             0         \n",
      "_________________________________________________________________\n",
      "token_and_position_embedding (None, 250, 256)          15832320  \n",
      "_________________________________________________________________\n",
      "transformer_block (Transform (None, 250, 256)          1250176   \n",
      "_________________________________________________________________\n",
      "transformer_block_1 (Transfo (None, 250, 256)          1250176   \n",
      "_________________________________________________________________\n",
      "flatten (Flatten)            (None, 64000)             0         \n",
      "_________________________________________________________________\n",
      "dropout_4 (Dropout)          (None, 64000)             0         \n",
      "_________________________________________________________________\n",
      "dense_4 (Dense)              (None, 256)               16384256  \n",
      "_________________________________________________________________\n",
      "dropout_5 (Dropout)          (None, 256)               0         \n",
      "_________________________________________________________________\n",
      "dense_5 (Dense)              (None, 7)                 1799      \n",
      "=================================================================\n",
      "Total params: 34,718,727\n",
      "Trainable params: 34,718,727\n",
      "Non-trainable params: 0\n",
      "_________________________________________________________________\n"
     ]
    }
   ],
   "source": [
    "# Display detailed model architecture summary\n",
    "model.summary()"
   ]
  },
  {
   "cell_type": "code",
   "execution_count": null,
   "id": "885002ba",
   "metadata": {
    "execution": {
     "iopub.execute_input": "2021-11-20T15:59:35.472371Z",
     "iopub.status.busy": "2021-11-20T15:59:35.471565Z",
     "iopub.status.idle": "2021-11-20T15:59:36.483082Z",
     "shell.execute_reply": "2021-11-20T15:59:36.483748Z",
     "shell.execute_reply.started": "2021-11-20T15:41:30.479510Z"
    },
    "papermill": {
     "duration": 1.031406,
     "end_time": "2021-11-20T15:59:36.483944",
     "exception": false,
     "start_time": "2021-11-20T15:59:35.452538",
     "status": "completed"
    },
    "tags": []
   },
   "outputs": [
    {
     "data": {
      "image/png": "[encoded data removed]",
      "text/plain": [
       "<IPython.core.display.Image object>"
      ]
     },
     "execution_count": 11,
     "metadata": {},
     "output_type": "execute_result"
    }
   ],
   "source": [
    "# Create visual representation of model architecture\n",
    "tf.keras.utils.plot_model(model, show_shapes=True)"
   ]
  },
  {
   "cell_type": "markdown",
   "id": "4b856939",
   "metadata": {},
   "source": [
    "## Model Training\n",
    "\n",
    "Train the model with early stopping to prevent overfitting and ensure optimal performance."
   ]
  },
  {
   "cell_type": "code",
   "execution_count": null,
   "id": "a5edf631",
   "metadata": {
    "execution": {
     "iopub.execute_input": "2021-11-20T15:59:36.556878Z",
     "iopub.status.busy": "2021-11-20T15:59:36.556011Z",
     "iopub.status.idle": "2021-11-20T16:12:13.262344Z",
     "shell.execute_reply": "2021-11-20T16:12:13.261869Z",
     "shell.execute_reply.started": "2021-11-20T15:41:39.714976Z"
    },
    "papermill": {
     "duration": 756.74727,
     "end_time": "2021-11-20T16:12:13.262480",
     "exception": false,
     "start_time": "2021-11-20T15:59:36.515210",
     "status": "completed"
    },
    "tags": []
   },
   "outputs": [
    {
     "name": "stderr",
     "output_type": "stream",
     "text": [
      "2021-11-20 15:59:36.678092: I tensorflow/compiler/mlir/mlir_graph_optimization_pass.cc:185] None of the MLIR Optimization Passes are enabled (registered 2)\n"
     ]
    },
    {
     "name": "stdout",
     "output_type": "stream",
     "text": [
      "Epoch 1/40\n",
      "220/220 [==============================] - 46s 192ms/step - loss: 2.0304 - accuracy: 0.4297 - val_loss: 1.4108 - val_accuracy: 0.4809\n",
      "Epoch 2/40\n",
      "220/220 [==============================] - 42s 189ms/step - loss: 1.4201 - accuracy: 0.4704 - val_loss: 1.2897 - val_accuracy: 0.4906\n",
      "Epoch 3/40\n",
      "220/220 [==============================] - 42s 190ms/step - loss: 1.3180 - accuracy: 0.5023 - val_loss: 1.2012 - val_accuracy: 0.5363\n",
      "Epoch 4/40\n",
      "220/220 [==============================] - 42s 189ms/step - loss: 1.2053 - accuracy: 0.5340 - val_loss: 1.1202 - val_accuracy: 0.5543\n",
      "Epoch 5/40\n",
      "220/220 [==============================] - 42s 189ms/step - loss: 1.1033 - accuracy: 0.5635 - val_loss: 1.0801 - val_accuracy: 0.5706\n",
      "Epoch 6/40\n",
      "220/220 [==============================] - 42s 189ms/step - loss: 1.0270 - accuracy: 0.5898 - val_loss: 1.1995 - val_accuracy: 0.5466\n",
      "Epoch 7/40\n",
      "220/220 [==============================] - 42s 190ms/step - loss: 0.9647 - accuracy: 0.6147 - val_loss: 1.0326 - val_accuracy: 0.6058\n",
      "Epoch 8/40\n",
      "220/220 [==============================] - 42s 190ms/step - loss: 0.9060 - accuracy: 0.6347 - val_loss: 1.0632 - val_accuracy: 0.5687\n",
      "Epoch 9/40\n",
      "220/220 [==============================] - 42s 190ms/step - loss: 0.8598 - accuracy: 0.6504 - val_loss: 0.9713 - val_accuracy: 0.6135\n",
      "Epoch 10/40\n",
      "220/220 [==============================] - 42s 190ms/step - loss: 0.7512 - accuracy: 0.6925 - val_loss: 0.9567 - val_accuracy: 0.6481\n",
      "Epoch 11/40\n",
      "220/220 [==============================] - 42s 190ms/step - loss: 0.7009 - accuracy: 0.7095 - val_loss: 0.8936 - val_accuracy: 0.6667\n",
      "Epoch 12/40\n",
      "220/220 [==============================] - 42s 189ms/step - loss: 0.6570 - accuracy: 0.7307 - val_loss: 0.9375 - val_accuracy: 0.6500\n",
      "Epoch 13/40\n",
      "220/220 [==============================] - 42s 190ms/step - loss: 0.6173 - accuracy: 0.7468 - val_loss: 0.9431 - val_accuracy: 0.6443\n",
      "Epoch 14/40\n",
      "220/220 [==============================] - 42s 190ms/step - loss: 0.5841 - accuracy: 0.7617 - val_loss: 0.9698 - val_accuracy: 0.6548\n",
      "Epoch 15/40\n",
      "220/220 [==============================] - 42s 189ms/step - loss: 0.5485 - accuracy: 0.7736 - val_loss: 1.0623 - val_accuracy: 0.6375\n",
      "Epoch 16/40\n",
      "220/220 [==============================] - 42s 190ms/step - loss: 0.5180 - accuracy: 0.7881 - val_loss: 1.2732 - val_accuracy: 0.5853\n",
      "Epoch 17/40\n",
      "220/220 [==============================] - 42s 190ms/step - loss: 0.4817 - accuracy: 0.8062 - val_loss: 1.2606 - val_accuracy: 0.6065\n",
      "Epoch 18/40\n",
      "220/220 [==============================] - 42s 189ms/step - loss: 0.4517 - accuracy: 0.8187 - val_loss: 1.3893 - val_accuracy: 0.6289\n"
     ]
    },
    {
     "data": {
      "text/plain": [
       "<keras.callbacks.History at 0x7f29e37d0c50>"
      ]
     },
     "execution_count": 12,
     "metadata": {},
     "output_type": "execute_result"
    }
   ],
   "source": [
    "# Set random seed for reproducible results\n",
    "tf.random.set_seed(seed)\n",
    "\n",
    "# Split data into training and validation sets\n",
    "X_train, X_val, y_train, y_val = train_test_split(X, y, test_size=0.1, random_state=seed)\n",
    "\n",
    "# Configure early stopping callback to prevent overfitting\n",
    "early_stopping = tf.keras.callbacks.EarlyStopping(\n",
    "    patience=7,           # Stop if no improvement for 7 epochs\n",
    "    restore_best_weights=True  # Restore weights from best epoch\n",
    ")\n",
    "\n",
    "# Train the model with validation monitoring\n",
    "history = model.fit(\n",
    "    X_train, y_train, \n",
    "    validation_data=(X_val, y_val),\n",
    "    epochs=40, \n",
    "    batch_size=batch_size, \n",
    "    shuffle=True,\n",
    "    callbacks=[early_stopping]\n",
    ")"
   ]
  },
  {
   "cell_type": "markdown",
   "id": "17046f2c",
   "metadata": {},
   "source": [
    "## Model Validation\n",
    "\n",
    "Evaluate model performance using the validation dataset to ensure it can correctly rank comment toxicity."
   ]
  },
  {
   "cell_type": "code",
   "execution_count": null,
   "id": "094912b4",
   "metadata": {
    "execution": {
     "iopub.execute_input": "2021-11-20T16:12:15.625458Z",
     "iopub.status.busy": "2021-11-20T16:12:15.624602Z",
     "iopub.status.idle": "2021-11-20T16:14:53.879218Z",
     "shell.execute_reply": "2021-11-20T16:14:53.879695Z",
     "shell.execute_reply.started": "2021-11-20T15:55:10.035850Z"
    },
    "papermill": {
     "duration": 159.569526,
     "end_time": "2021-11-20T16:14:53.879856",
     "exception": false,
     "start_time": "2021-11-20T16:12:14.310330",
     "status": "completed"
    },
    "tags": []
   },
   "outputs": [
    {
     "data": {
      "text/plain": [
       "0.6862627872990568"
      ]
     },
     "execution_count": 13,
     "metadata": {},
     "output_type": "execute_result"
    }
   ],
   "source": [
    "# Load validation dataset for model evaluation\n",
    "df_val = pd.read_csv(\"../input/jigsaw-toxic-severity-rating/validation_data.csv\")\n",
    "\n",
    "# Clean validation text data\n",
    "df_val['less_toxic'] = clean_data(df_val['less_toxic'])\n",
    "df_val['more_toxic'] = clean_data(df_val['more_toxic'])\n",
    "\n",
    "# Convert validation text to sequences\n",
    "X_less_toxic = tokenizer.texts_to_sequences(df_val['less_toxic'])\n",
    "X_more_toxic = tokenizer.texts_to_sequences(df_val['more_toxic'])\n",
    "\n",
    "# Apply padding to match training sequence length\n",
    "X_less_toxic = pad_sequences(X_less_toxic, maxlen=max_sequence_len)\n",
    "X_more_toxic = pad_sequences(X_more_toxic, maxlen=max_sequence_len)\n",
    "\n",
    "# Generate predictions for both comment types\n",
    "p1 = model.predict(X_less_toxic)\n",
    "p2 = model.predict(X_more_toxic)\n",
    "\n",
    "# Convert probability distributions to toxicity scores\n",
    "p1 = (np.linspace(0, classes-1, classes) * p1).sum(axis=1)\n",
    "p2 = (np.linspace(0, classes-1, classes) * p2).sum(axis=1)\n",
    "\n",
    "# Calculate validation accuracy (percentage of correct rankings)\n",
    "validation_accuracy = (p1 < p2).mean()\n",
    "print(f\"Validation Accuracy: {validation_accuracy:.4f}\")"
   ]
  },
  {
   "cell_type": "markdown",
   "id": "8544141a",
   "metadata": {},
   "source": [
    "## Summary\n",
    "\n",
    "This notebook successfully implemented a transformer-based model for toxic comment classification with the following achievements:\n",
    "\n",
    "1. **Data Preprocessing**: Comprehensive text cleaning and balanced sampling\n",
    "2. **Model Architecture**: Custom transformer with multi-head attention\n",
    "3. **Training Strategy**: Early stopping and validation monitoring\n",
    "4. **Performance**: Validated ranking accuracy on held-out data\n",
    "\n",
    "The model can effectively rank comments by toxicity level, making it suitable for content moderation applications."
   ]
  }
 ],
 "metadata": {
  "kernelspec": {
   "display_name": "Python 3",
   "language": "python",
   "name": "python3"
  },
  "language_info": {
   "codemirror_mode": {
    "name": "ipython",
    "version": 3
   },
   "file_extension": ".py",
   "mimetype": "text/x-python",
   "name": "python",
   "nbconvert_exporter": "python",
   "pygments_lexer": "ipython3",
   "version": "3.7.10"
  },
  "papermill": {
   "default_parameters": {},
   "duration": 999.063483,
   "end_time": "2021-11-20T16:15:08.817443",
   "environment_variables": {},
   "exception": null,
   "input_path": "__notebook__.ipynb",
   "output_path": "__notebook__.ipynb",
   "parameters": {},
   "start_time": "2021-11-20T15:58:29.753960",
   "version": "2.3.3"
  }
 },
 "nbformat": 4,
 "nbformat_minor": 5
}
